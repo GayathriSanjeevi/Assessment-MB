{
 "cells": [
  {
   "cell_type": "code",
   "execution_count": 1,
   "id": "1ad971b3",
   "metadata": {},
   "outputs": [],
   "source": [
    "from urllib.error import HTTPError, URLError\n",
    "import urllib.request \n",
    "import pandas as pd\n",
    "from bs4 import BeautifulSoup\n",
    "import re\n",
    "import nltk\n",
    "import string\n",
    "  \n",
    "# URL of the web page to fetch \n",
    "url ='https://en.wikipedia.org/wiki/Python_(programming_language)'\n",
    "try:\n",
    "    # Open the URL and read its content \n",
    "    response = urllib.request.urlopen(url) \n",
    "    # Read the content of the response \n",
    "    html = response.read() \n",
    "    html_string = html.decode(\"utf-8\")\n",
    "    #print(html_string)\n",
    "except HTTPError as e:\n",
    "    print(\"HTTP error\")\n",
    "except URLError as e:\n",
    "    print(\"Server error\")"
   ]
  },
  {
   "cell_type": "code",
   "execution_count": 2,
   "id": "bbd2e44e",
   "metadata": {},
   "outputs": [
    {
     "name": "stdout",
     "output_type": "stream",
     "text": [
      "<h1 class=\"firstHeading mw-first-heading\" id=\"firstHeading\"><span class=\"mw-page-title-main\">Python (programming language)</span></h1>\n"
     ]
    }
   ],
   "source": [
    "soup=BeautifulSoup(html_string,'html.parser')\n",
    "print(soup.h1)"
   ]
  },
  {
   "cell_type": "code",
   "execution_count": 3,
   "id": "435fa805",
   "metadata": {},
   "outputs": [
    {
     "name": "stdout",
     "output_type": "stream",
     "text": [
      "<title>Python (programming language) - Wikipedia</title>\n"
     ]
    }
   ],
   "source": [
    "print(soup.head.title)"
   ]
  },
  {
   "cell_type": "code",
   "execution_count": 4,
   "id": "4c37b3f6",
   "metadata": {},
   "outputs": [
    {
     "name": "stdout",
     "output_type": "stream",
     "text": [
      "634048\n"
     ]
    }
   ],
   "source": [
    "print(len(html_string))"
   ]
  },
  {
   "cell_type": "code",
   "execution_count": 5,
   "id": "ba105afd",
   "metadata": {},
   "outputs": [],
   "source": [
    "text='' \n",
    "for paragraph in soup.find_all('p'):\n",
    "    text+=paragraph.text"
   ]
  },
  {
   "cell_type": "code",
   "execution_count": 6,
   "id": "078038c3",
   "metadata": {},
   "outputs": [
    {
     "name": "stdout",
     "output_type": "stream",
     "text": [
      "28636\n"
     ]
    }
   ],
   "source": [
    "print(len(text))"
   ]
  },
  {
   "cell_type": "code",
   "execution_count": 7,
   "id": "c8819baf",
   "metadata": {},
   "outputs": [
    {
     "name": "stdout",
     "output_type": "stream",
     "text": [
      "28636\n"
     ]
    }
   ],
   "source": [
    "text=text.lower()\n",
    "print(len(text))"
   ]
  },
  {
   "cell_type": "code",
   "execution_count": 8,
   "id": "73199a73",
   "metadata": {},
   "outputs": [
    {
     "name": "stdout",
     "output_type": "stream",
     "text": [
      "200\n"
     ]
    }
   ],
   "source": [
    "sentence_tokens=nltk.sent_tokenize(text)\n",
    "print(len(sentence_tokens))"
   ]
  },
  {
   "cell_type": "markdown",
   "id": "3f776188",
   "metadata": {},
   "source": [
    "sentence_tokens"
   ]
  },
  {
   "cell_type": "code",
   "execution_count": 9,
   "id": "c8501ee1",
   "metadata": {},
   "outputs": [],
   "source": [
    "from sklearn.feature_extraction.text import TfidfVectorizer\n",
    "from sklearn.metrics.pairwise import cosine_similarity#to find the similarity between the query input by the user and the documents in the corpus"
   ]
  },
  {
   "cell_type": "code",
   "execution_count": 10,
   "id": "f4884175",
   "metadata": {},
   "outputs": [],
   "source": [
    "def response(user_input):\n",
    "#Preprocess and vectorize predefined responses\n",
    "    vectorizer = TfidfVectorizer()\n",
    "    text_vectorized = vectorizer.fit_transform(sentence_tokens)\n",
    "\n",
    "    # Preprocess and vectorize user input\n",
    "    user_input_vectorized = vectorizer.transform([user_input])\n",
    "\n",
    "# Compute cosine similarity between user input and predefined responses\n",
    "    similarity_scores = cosine_similarity(user_input_vectorized, text_vectorized)\n",
    "\n",
    "# Get index of the most similar response\n",
    "    most_similar_index = similarity_scores.argmax()\n",
    "\n",
    "# Retrieve the most similar response\n",
    "    bot_response = sentence_tokens[most_similar_index]\n",
    "\n",
    "    print(\"Chatbot:\", bot_response)"
   ]
  },
  {
   "cell_type": "code",
   "execution_count": 11,
   "id": "65980274",
   "metadata": {},
   "outputs": [
    {
     "name": "stdout",
     "output_type": "stream",
     "text": [
      "Hi, I am a simple QA chatbot\n",
      "Select any one question from below\n"
     ]
    },
    {
     "data": {
      "application/vnd.jupyter.widget-view+json": {
       "model_id": "06f8150580c44dee80f8283eda11d09f",
       "version_major": 2,
       "version_minor": 0
      },
      "text/plain": [
       "interactive(children=(Dropdown(description='x', options=('Where python has gained widespread use?', 'What its …"
      ]
     },
     "metadata": {},
     "output_type": "display_data"
    }
   ],
   "source": [
    "from ipywidgets import interact, Dropdown\n",
    "print('Hi, I am a simple QA chatbot')\n",
    "print('Select any one question from below')\n",
    "\n",
    "def f(x):\n",
    "    return response(x)\n",
    "interact(f, x=['Where python has gained widespread use?','What its design philosophy emphasizes?','Who invented Python?','Latest version of python in 2023','methods on python','arithmetic operations- symbols']);"
   ]
  },
  {
   "cell_type": "code",
   "execution_count": null,
   "id": "fac69e0d",
   "metadata": {},
   "outputs": [],
   "source": []
  },
  {
   "cell_type": "code",
   "execution_count": null,
   "id": "25c33373",
   "metadata": {},
   "outputs": [],
   "source": []
  }
 ],
 "metadata": {
  "kernelspec": {
   "display_name": "Python 3 (ipykernel)",
   "language": "python",
   "name": "python3"
  },
  "language_info": {
   "codemirror_mode": {
    "name": "ipython",
    "version": 3
   },
   "file_extension": ".py",
   "mimetype": "text/x-python",
   "name": "python",
   "nbconvert_exporter": "python",
   "pygments_lexer": "ipython3",
   "version": "3.11.4"
  }
 },
 "nbformat": 4,
 "nbformat_minor": 5
}
